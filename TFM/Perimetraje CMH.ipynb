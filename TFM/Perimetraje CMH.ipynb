{
 "cells": [
  {
   "cell_type": "markdown",
   "metadata": {},
   "source": [
    "# Cropping and identifying HSC in .czi files"
   ]
  },
  {
   "cell_type": "markdown",
   "metadata": {},
   "source": [
    "First we install and import modules"
   ]
  },
  {
   "cell_type": "code",
   "execution_count": 1,
   "metadata": {},
   "outputs": [
    {
     "name": "stdout",
     "output_type": "stream",
     "text": [
      "\"The following packages are necessary for proper script functioning: opencv-python, pandas, aicsimageio. \n",
      "Would you like to install them? Yes/No\n",
      "No\n"
     ]
    }
   ],
   "source": [
    "# Create an automated chunk for package installation (if necessary)\n",
    "print('''\"The following packages are necessary for proper script functioning: opencv-python, pandas, aicsimageio. \n",
    "Would you like to install them? Yes/No''')\n",
    "response = input()\n",
    "if response == \"Yes\":\n",
    "    print(\"Installing necessary packages. Please wait\")\n",
    "    %pip install opencv-python\n",
    "    %pip install pandas\n",
    "    %pip install aicsimageio\n",
    "    print(\"Successful package installation\")\n",
    "else:\n",
    "    pass\n",
    "  "
   ]
  },
  {
   "cell_type": "code",
   "execution_count": 2,
   "metadata": {},
   "outputs": [],
   "source": [
    "# Importing necessary packages\n",
    "# Creating folders to save files coming from each image\n",
    "from os import listdir, mkdir\n",
    "# To work with Excel files\n",
    "import pandas as pd\n",
    "# Rectangle drawing over red channel\n",
    "import cv2\n",
    "# Working with .czi files\n",
    "from aicsimageio import AICSImage\n",
    "# To work with regular expressions\n",
    "import re"
   ]
  },
  {
   "cell_type": "markdown",
   "metadata": {},
   "source": [
    "Next, we set the working directories"
   ]
  },
  {
   "cell_type": "code",
   "execution_count": 3,
   "metadata": {},
   "outputs": [],
   "source": [
    "training_images_dir = 'C:/Users/cdedi/Desktop/Master images/'\n",
    "young_dir = 'C:/Users/cdedi/Desktop/Master images/young/'\n",
    "aged_dir = 'C:/Users/cdedi/Desktop/Master images/aged/'"
   ]
  },
  {
   "cell_type": "code",
   "execution_count": 5,
   "metadata": {},
   "outputs": [],
   "source": [
    "# Establishing counter for total HSCs\n",
    "total_hsc = 0\n",
    "\n",
    "# Registering all HSCs from our datasets. It skips the dataframe in case of already stored\n",
    "for i in listdir(training_images_dir):\n",
    "    if \".xlsx\" in i and not \"numpys.xlsx\" in i:\n",
    "        xls = pd.ExcelFile(training_images_dir + i)\n",
    "        coord = xls.parse(index_col=None, na_values=['NA'])\n",
    "        total_hsc += len(coord)\n",
    "\n",
    "# Creating lists for our datasets (Numpy array, young/aged, sample and polarity)\n",
    "hsc_list = [0] * total_hsc\n",
    "hsc_sample = [0] * total_hsc\n",
    "hsc_age = [0] * total_hsc\n",
    "hsc_polarity = [0] * total_hsc\n",
    "hsc_excluded = total_hsc * [\"No\"]\n",
    "hsc_points = [0] * total_hsc\n",
    "\n",
    "# Creating a counter for iteration\n",
    "hsc_counter = 0\n",
    "cropsize = 12\n",
    "for i in listdir(training_images_dir):\n",
    "    # Setting up the iteration on datasets (skipping the storage for training dataset if already exists)\n",
    "    if \".xlsx\" in i and not \"numpys.xlsx\" in i:\n",
    "        # Opening the file and removing spaces\n",
    "        xls = pd.ExcelFile(training_images_dir + i)\n",
    "        coord = xls.parse(index_col=None, na_values=['NA'])\n",
    "        coord.columns = coord.columns.str.replace(' ', '')\n",
    "        # Selecting .czi from their specific folders\n",
    "        if \"young_\" in i:\n",
    "            czi_folder = training_images_dir + \"young/\"\n",
    "        if \"aged_\" in i:\n",
    "            czi_folder = training_images_dir + \"aged/\"\n",
    "        # Recording the sample name to make it easier. Using regular expressions to eliminate file extension\n",
    "        current_sample = re.sub('\\.lsm$', '', str(coord.at[1, \"ItemName\"]))\n",
    "        # Creating directory for each sample\n",
    "        if \"aged\" in i and not (\"aged \" + current_sample) in listdir(training_images_dir):\n",
    "            mkdir(training_images_dir + \"aged \" + current_sample)\n",
    "        if \"young_\" in i and not (\"young \" + current_sample) in listdir(training_images_dir):\n",
    "            mkdir(training_images_dir + \"young \" + current_sample)\n",
    "        # Opening the .czi file (thanks Dídac!)\n",
    "        img = AICSImage(czi_folder + current_sample + \".czi\")\n",
    "        # Saving all the arrays corresponding to a single HSC (single channel) in the hsc_list\n",
    "        for j in range(0, len(coord), 1):\n",
    "            if \"young_\" in i:\n",
    "                if (\"young \" + current_sample +\"_slice \" + str(coord.at[j,\"PositionZ\"]) + \".tiff\") not in listdir(training_images_dir + \"young \" + current_sample):\n",
    "                    rectangled = img.data[0, 0, 0, coord.at[j, \"PositionZ\"], :, :]\n",
    "                else:\n",
    "                    rectangled = cv2.imread(training_images_dir + \"young \" + current_sample + \"/young_\" + current_sample +\"_slice \" + str(coord.at[j,\"PositionZ\"]) + \".tiff\")\n",
    "                cv2.rectangle(rectangled, (coord.at[j, \"PositionX\"] - cropsize, coord.at[j, \"PositionY\"] - cropsize), (coord.at[j, \"PositionX\"] + cropsize,coord.at[j, \"PositionY\"] + cropsize), (255, 255, 255), 1)\n",
    "                cv2.imwrite(training_images_dir + \"young \" + current_sample + \"/young_\" + current_sample +\"_slice \" + str(coord.at[j,\"PositionZ\"]) + \".tiff\", rectangled)\n",
    "                hsc_age[hsc_counter] = \"Young\"\n",
    "            if \"aged_\" in i:\n",
    "                if (\"aged_\" + current_sample + \"_slice \" + str(coord.at[j,\"PositionZ\"]) + \".tiff\") not in listdir(training_images_dir + \"aged \" + current_sample):\n",
    "                    rectangled = img.data[0, 0, 0, coord.at[j, \"PositionZ\"], :, :]\n",
    "                else:\n",
    "                    rectangled = cv2.imread(training_images_dir + \"aged \" + current_sample + \"/aged_\" + current_sample + \"_slice \" + str(coord.at[j,\"PositionZ\"]) + \".tiff\")\n",
    "                ## Añadir variable para tamaño / hacer loop de if para el tamaño menor de la imagen (y las que queden por fuera, no seleccionarlas y decir cuáles son)\n",
    "                cv2.rectangle(rectangled, (coord.at[j, \"PositionX\"] - 12, coord.at[j, \"PositionY\"] - cropsize), (coord.at[j, \"PositionX\"] + cropsize,coord.at[j, \"PositionY\"] + cropsize), (255, 255, 255), 1)\n",
    "                cv2.imwrite(training_images_dir + \"aged \" + current_sample + \"/aged_\" + current_sample +\"_slice \" + str(coord.at[j,\"PositionZ\"]) + \".tiff\", rectangled)\n",
    "                hsc_age[hsc_counter] = \"Aged\"\n",
    "            # Storing sample name in the hsc_samples variable\n",
    "            hsc_sample[hsc_counter] = current_sample\n",
    "            # Saving images of each channel (corresponding to np arrays)\n",
    "            if ((coord.at[j,\"PositionY\"] - cropsize) < 0) or ((coord.at[j,\"PositionY\"] + cropsize) > 1024) or ((coord.at[j,\"PositionX\"] - cropsize) < 0) or ((coord.at[j,\"PositionX\"] + cropsize) > 1024):\n",
    "                hsc_list[hsc_counter] = \"NA\"\n",
    "                hsc_excluded[hsc_counter] = \"Yes: \" + coord.at[j,\"Name\"] + \" from \" + current_sample + \", slice \" + str(coord.at[j,\"PositionZ\"])\n",
    "            else:\n",
    "                hsc_list[hsc_counter] = img.data[0,0,0:5,(coord.at[j,\"PositionZ\"]),(coord.at[j,\"PositionY\"] - cropsize):(coord.at[j,\"PositionY\"]+cropsize),(coord.at[j,\"PositionX\"] - cropsize):(coord.at[j,\"PositionX\"] + cropsize)]\n",
    "                hsc_now = hsc_list[hsc_counter]\n",
    "                for k in range(0, 5):\n",
    "                    im = hsc_now[k,:,:]\n",
    "                    if \"young_\" in i:\n",
    "                        cv2.imwrite(training_images_dir + \"young \" + current_sample + \"/young_\" + current_sample + \"_\" + str(j+1) + \"_ch0\" + str(k) + \".tiff\", im)\n",
    "                    if \"aged_\" in i:\n",
    "                        cv2.imwrite(training_images_dir + \"aged \" + current_sample + \"/aged_\" + current_sample + \"_\" + str(j+1) + \"_ch0\" + str(k) + \".tiff\", im)\n",
    "            # Storing the polarity of each HSC\n",
    "            hsc_polarity[hsc_counter] = coord.at[j,\"POLARITY\"]\n",
    "            hsc_points[hsc_counter] = coord.at[j, \"Name\"]\n",
    "            # Updating the counter for next HSC\n",
    "            hsc_counter += 1\n",
    "\n",
    "# Create and store dataset\n",
    "hsc_dataset = pd.DataFrame(list(zip(hsc_list, hsc_excluded, hsc_age, hsc_sample, hsc_points, hsc_polarity)),  columns =['Numpy', 'Excluded?', 'Status', 'Sample', 'Reference', \"Polarity\"])\n",
    "hsc_dataset.to_excel(training_images_dir + \"numpys.xlsx\", index=False)"
   ]
  }
 ],
 "metadata": {
  "kernelspec": {
   "display_name": "Python 3",
   "language": "python",
   "name": "python3"
  },
  "language_info": {
   "codemirror_mode": {
    "name": "ipython",
    "version": 3
   },
   "file_extension": ".py",
   "mimetype": "text/x-python",
   "name": "python",
   "nbconvert_exporter": "python",
   "pygments_lexer": "ipython3",
   "version": "3.8.5"
  }
 },
 "nbformat": 4,
 "nbformat_minor": 4
}
