{
 "cells": [
  {
   "cell_type": "markdown",
   "metadata": {},
   "source": [
    "# Visualización y análisis estadístico de las características de CMH"
   ]
  },
  {
   "cell_type": "code",
   "execution_count": 6,
   "metadata": {},
   "outputs": [
    {
     "data": {
      "text/plain": [
       "<AxesSubplot:xlabel='Status', ylabel='Volume'>"
      ]
     },
     "execution_count": 6,
     "metadata": {},
     "output_type": "execute_result"
    },
    {
     "data": {
      "image/png": "[encoded data removed]",
      "text/plain": [
       "<Figure size 432x288 with 1 Axes>"
      ]
     },
     "metadata": {
      "needs_background": "light"
     },
     "output_type": "display_data"
    }
   ],
   "source": [
    "import pandas as pd\n",
    "import seaborn as sns\n",
    "# Carga del dataset que contiene los datos morfométricos\n",
    "xls2 = pd.ExcelFile(\"C:/Users/cdedi/Desktop/working_dataset.xlsx\")\n",
    "stat = xls2.parse(index_col=None, na_values=['NA'])\n",
    "stat.columns = stat.columns.str.replace(' ', '')\n",
    "# Representación boxplot del volumen\n",
    "sns.boxplot(x= \"Status\", y= \"Volume\", data=stat)"
   ]
  },
  {
   "cell_type": "code",
   "execution_count": 7,
   "metadata": {},
   "outputs": [
    {
     "data": {
      "text/plain": [
       "[Text(0, 0.5, 'Area del centro de la CMH')]"
      ]
     },
     "execution_count": 7,
     "metadata": {},
     "output_type": "execute_result"
    },
    {
     "data": {
      "image/png": "[encoded data removed]",
      "text/plain": [
       "<Figure size 432x288 with 1 Axes>"
      ]
     },
     "metadata": {
      "needs_background": "light"
     },
     "output_type": "display_data"
    }
   ],
   "source": [
    "# Representación boxplot del área del plano central\n",
    "ax = sns.boxplot(x= \"Status\", y= \"CentralArea\", data=stat)\n",
    "ax.set(ylabel='Area del centro de la CMH')"
   ]
  },
  {
   "cell_type": "code",
   "execution_count": 8,
   "metadata": {},
   "outputs": [
    {
     "name": "stdout",
     "output_type": "stream",
     "text": [
      "ShapiroResult(statistic=0.9538621306419373, pvalue=0.049262482672929764)\n",
      "ShapiroResult(statistic=0.95986407995224, pvalue=0.5990071296691895)\n",
      "MannwhitneyuResult(statistic=436.5, pvalue=0.4282932419307385)\n"
     ]
    }
   ],
   "source": [
    "from scipy.stats import ttest_ind, shapiro, mannwhitneyu\n",
    "\n",
    "# Separamos ambos grupos según su fenotipo de envejecimiento\n",
    "aged_stat = stat[stat['Status']=='Aged']\n",
    "young_stat = stat[stat['Status']=='Young']\n",
    "\n",
    "# Testamos la normalidad de los grupos para volumen\n",
    "print(shapiro(aged_stat['Volume']))\n",
    "print(shapiro(young_stat['Volume']))\n",
    "\n",
    "# Realizamos test de Mann-Whitney (uno de los grupos no sigue una distribución normal)\n",
    "print(mannwhitneyu(aged_stat['Volume'], young_stat['Volume']))"
   ]
  },
  {
   "cell_type": "code",
   "execution_count": 9,
   "metadata": {},
   "outputs": [
    {
     "name": "stdout",
     "output_type": "stream",
     "text": [
      "ShapiroResult(statistic=0.9841088652610779, pvalue=0.7327223420143127)\n",
      "ShapiroResult(statistic=0.9184412360191345, pvalue=0.12130988389253616)\n",
      "Ttest_indResult(statistic=0.0932054892382872, pvalue=0.9260226742164049)\n"
     ]
    }
   ],
   "source": [
    "from scipy.stats import ttest_ind, shapiro\n",
    "\n",
    "# Testamos la normalidad de los grupos para área del plano central\n",
    "print(shapiro(aged_stat['CentralArea']))\n",
    "print(shapiro(young_stat['CentralArea']))\n",
    "\n",
    "# Realizamos test t-Student (ambos grupos siguen una distribución normal)\n",
    "print(ttest_ind(aged_stat['CentralArea'], young_stat['CentralArea']))"
   ]
  }
 ],
 "metadata": {
  "kernelspec": {
   "display_name": "Python 3",
   "language": "python",
   "name": "python3"
  },
  "language_info": {
   "codemirror_mode": {
    "name": "ipython",
    "version": 3
   },
   "file_extension": ".py",
   "mimetype": "text/x-python",
   "name": "python",
   "nbconvert_exporter": "python",
   "pygments_lexer": "ipython3",
   "version": "3.8.5"
  }
 },
 "nbformat": 4,
 "nbformat_minor": 4
}
